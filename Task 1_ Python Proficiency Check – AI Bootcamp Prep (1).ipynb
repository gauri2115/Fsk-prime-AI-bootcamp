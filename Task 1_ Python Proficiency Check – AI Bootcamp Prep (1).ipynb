{
 "cells": [
  {
   "cell_type": "markdown",
   "metadata": {
    "id": "L982FdumDCVn"
   },
   "source": [
    "# Task 1: Python Proficiency Check – AI Bootcamp Prep"
   ]
  },
  {
   "cell_type": "markdown",
   "metadata": {
    "id": "gk9AwRFXDO6n"
   },
   "source": [
    "## Section 1: Basics & Control Flow"
   ]
  },
  {
   "cell_type": "markdown",
   "metadata": {
    "id": "tG2LLFb4DSrf"
   },
   "source": [
    "### **Task 1**: FizzBuzz with a Twist\n",
    "\n",
    "*Instruction*: Write a function that prints numbers from 1 to 50. For multiples of 3, print \"AI\", for multiples of 5 print \"Bootcamp\", and for multiples of both 3 and 5 print \"AI Bootcamp\"."
   ]
  },
  {
   "cell_type": "code",
   "execution_count": 4,
   "metadata": {
    "id": "G6YtbgenDSWH"
   },
   "outputs": [
    {
     "name": "stdout",
     "output_type": "stream",
     "text": [
      "1\n",
      "2\n",
      "AI\n",
      "4\n",
      "Bootcamp\n",
      "AI\n",
      "7\n",
      "8\n",
      "AI\n",
      "Bootcamp\n",
      "11\n",
      "AI\n",
      "13\n",
      "14\n",
      "AI Bootcamp\n",
      "16\n",
      "17\n",
      "AI\n",
      "19\n",
      "Bootcamp\n",
      "AI\n",
      "22\n",
      "23\n",
      "AI\n",
      "Bootcamp\n",
      "26\n",
      "AI\n",
      "28\n",
      "29\n",
      "AI Bootcamp\n",
      "31\n",
      "32\n",
      "AI\n",
      "34\n",
      "Bootcamp\n",
      "AI\n",
      "37\n",
      "38\n",
      "AI\n",
      "Bootcamp\n",
      "41\n",
      "AI\n",
      "43\n",
      "44\n",
      "AI Bootcamp\n",
      "46\n",
      "47\n",
      "AI\n",
      "49\n",
      "Bootcamp\n"
     ]
    }
   ],
   "source": [
    "def fizzbuzz_ai_bootcamp():\n",
    "    for i in range(1, 51):\n",
    "        if i % 3 == 0 and i % 5 == 0:\n",
    "            print(\"AI Bootcamp\")\n",
    "        elif i % 3 == 0:\n",
    "            print(\"AI\")\n",
    "        elif i % 5 == 0:\n",
    "            print(\"Bootcamp\")\n",
    "        else:\n",
    "            print(i)\n",
    "        pass\n",
    "fizzbuzz_ai_bootcamp()"
   ]
  },
  {
   "cell_type": "markdown",
   "metadata": {
    "id": "8YMADBQmDhHU"
   },
   "source": [
    "### **Task 2**: List Comprehensions and Functions\n",
    "\n",
    "*Instruction*: Given a list of numbers, square only the even numbers using a list comprehension and define a function that returns the result."
   ]
  },
  {
   "cell_type": "code",
   "execution_count": 9,
   "metadata": {
    "colab": {
     "base_uri": "https://localhost:8080/"
    },
    "executionInfo": {
     "elapsed": 100,
     "status": "ok",
     "timestamp": 1744882173028,
     "user": {
      "displayName": "Sachin Motwani",
      "userId": "16395430268641961449"
     },
     "user_tz": -330
    },
    "id": "sPfpD1yF4LTO",
    "outputId": "1bd14bf9-8538-4199-e804-bda317065041"
   },
   "outputs": [
    {
     "name": "stdout",
     "output_type": "stream",
     "text": [
      "[4, 16, 36]\n"
     ]
    }
   ],
   "source": [
    "def square_evens(numbers):\n",
    "    result = []  \n",
    "    for num in numbers:\n",
    "        if num % 2 == 0:\n",
    "            square = num * num\n",
    "            result.append(square)\n",
    "    return result  \n",
    "print(square_evens([1, 2, 3, 4, 5, 6]))\n"
   ]
  },
  {
   "cell_type": "markdown",
   "metadata": {
    "id": "03CKwCBtDzRL"
   },
   "source": [
    "## Section 2: Data Structures & File I/O"
   ]
  },
  {
   "cell_type": "markdown",
   "metadata": {
    "id": "oh1W_9m5DuzF"
   },
   "source": [
    "### **Task 3**: Word Frequency from a File\n",
    "\n",
    "*Instruction*: Read the provided text file (sample.txt) and return the 5 most common words (ignoring punctuation and case)."
   ]
  },
  {
   "cell_type": "code",
   "execution_count": 12,
   "metadata": {
    "id": "SQTsWR6GDn6e"
   },
   "outputs": [
    {
     "name": "stdout",
     "output_type": "stream",
     "text": [
      "this : 2\n",
      "is : 2\n",
      "file : 2\n",
      "a : 1\n",
      "sample : 1\n"
     ]
    }
   ],
   "source": [
    "from collections import Counter\n",
    "def top_5_words(filepath):\n",
    "    file = open(filepath, 'r')\n",
    "    text = file.read()\n",
    "    file.close()\n",
    "\n",
    "    text = text.lower()\n",
    "\n",
    "    for ch in '.,!?;:-_()[]{}\"\\'': \n",
    "        text = text.replace(ch, '')\n",
    "\n",
    "    # Split text into words\n",
    "    words = text.split()\n",
    "\n",
    "    word_count = {}\n",
    "    for word in words:\n",
    "        if word in word_count:\n",
    "            word_count[word] += 1\n",
    "        else:\n",
    "            word_count[word] = 1\n",
    "\n",
    "    sorted_words = sorted(word_count.items(), key=lambda item: item[1], reverse=True)\n",
    "\n",
    "    for word, count in sorted_words[:5]:\n",
    "        print(word, \":\", count)\n",
    "\n",
    "with open('sample.txt', 'w') as f:\n",
    "    f.write(\"This is a sample file. It contains words, some of which repeat. This file is simple.\")\n",
    "top_5_words('sample.txt')\n"
   ]
  },
  {
   "cell_type": "markdown",
   "metadata": {
    "id": "mVV1BgZvEE3a"
   },
   "source": [
    "## Section 3: NumPy & pandas"
   ]
  },
  {
   "cell_type": "markdown",
   "metadata": {
    "id": "opUK7Z7LEIr4"
   },
   "source": [
    "### **Task 4**: NumPy Matrix Magic\n",
    "\n",
    "*Instruction*: Create a 5x5 matrix with random integers from 1 to 10. Replace all elements greater than 5 with 0."
   ]
  },
  {
   "cell_type": "code",
   "execution_count": 16,
   "metadata": {
    "id": "UW3FMdjQEEl3"
   },
   "outputs": [
    {
     "name": "stdout",
     "output_type": "stream",
     "text": [
      "[[4 5 2 3 2]\n",
      " [0 0 0 0 1]\n",
      " [0 5 0 0 4]\n",
      " [0 5 5 3 0]\n",
      " [3 0 5 0 2]]\n"
     ]
    }
   ],
   "source": [
    "import numpy as np\n",
    "\n",
    "def matrix_transform():\n",
    "    matrix = np.random.randint(1, 11, size=(5, 5))\n",
    "    matrix[matrix > 5] = 0\n",
    "    print(matrix)\n",
    "    pass\n",
    "\n",
    "matrix_transform()"
   ]
  },
  {
   "cell_type": "markdown",
   "metadata": {
    "id": "YuFv3sE6ET9d"
   },
   "source": [
    "### **Task 5**: pandas DataFrame Manipulation\n",
    "\n",
    "*Instruction*: Given the following dictionary, convert it into a DataFrame, calculate the average score per student, and add it as a new column."
   ]
  },
  {
   "cell_type": "code",
   "execution_count": 20,
   "metadata": {
    "id": "horbXH8iETuH"
   },
   "outputs": [
    {
     "data": {
      "text/html": [
       "<div>\n",
       "<style scoped>\n",
       "    .dataframe tbody tr th:only-of-type {\n",
       "        vertical-align: middle;\n",
       "    }\n",
       "\n",
       "    .dataframe tbody tr th {\n",
       "        vertical-align: top;\n",
       "    }\n",
       "\n",
       "    .dataframe thead th {\n",
       "        text-align: right;\n",
       "    }\n",
       "</style>\n",
       "<table border=\"1\" class=\"dataframe\">\n",
       "  <thead>\n",
       "    <tr style=\"text-align: right;\">\n",
       "      <th></th>\n",
       "      <th>Name</th>\n",
       "      <th>Math</th>\n",
       "      <th>Science</th>\n",
       "      <th>English</th>\n",
       "      <th>Average</th>\n",
       "    </tr>\n",
       "  </thead>\n",
       "  <tbody>\n",
       "    <tr>\n",
       "      <th>0</th>\n",
       "      <td>Alice</td>\n",
       "      <td>85</td>\n",
       "      <td>90</td>\n",
       "      <td>87</td>\n",
       "      <td>87.333333</td>\n",
       "    </tr>\n",
       "    <tr>\n",
       "      <th>1</th>\n",
       "      <td>Bob</td>\n",
       "      <td>78</td>\n",
       "      <td>88</td>\n",
       "      <td>85</td>\n",
       "      <td>83.666667</td>\n",
       "    </tr>\n",
       "    <tr>\n",
       "      <th>2</th>\n",
       "      <td>Charlie</td>\n",
       "      <td>92</td>\n",
       "      <td>84</td>\n",
       "      <td>80</td>\n",
       "      <td>85.333333</td>\n",
       "    </tr>\n",
       "  </tbody>\n",
       "</table>\n",
       "</div>"
      ],
      "text/plain": [
       "      Name  Math  Science  English    Average\n",
       "0    Alice    85       90       87  87.333333\n",
       "1      Bob    78       88       85  83.666667\n",
       "2  Charlie    92       84       80  85.333333"
      ]
     },
     "execution_count": 20,
     "metadata": {},
     "output_type": "execute_result"
    }
   ],
   "source": [
    "import pandas as pd\n",
    "\n",
    "data = {\n",
    "    'Name': ['Alice', 'Bob', 'Charlie'],\n",
    "    'Math': [85, 78, 92],\n",
    "    'Science': [90, 88, 84],\n",
    "    'English': [87, 85, 80]\n",
    "}\n",
    "\n",
    "df=pd.DataFrame(data)\n",
    "df['Average'] = df[['Math', 'Science', 'English']].mean(axis=1)\n",
    "df"
   ]
  },
  {
   "cell_type": "markdown",
   "metadata": {
    "id": "GNO0DPi3EpgF"
   },
   "source": [
    "## Section 4: Visualization & Logic"
   ]
  },
  {
   "cell_type": "markdown",
   "metadata": {
    "id": "W74DNGaJEtdj"
   },
   "source": [
    "### **Task 6**: Simple Data Visualization\n",
    "\n",
    "*Instruction*: Use matplotlib to create a bar chart showing the average score per subject from the DataFrame in the previous task."
   ]
  },
  {
   "cell_type": "code",
   "execution_count": 27,
   "metadata": {
    "id": "aM8iWEAXEOmE"
   },
   "outputs": [
    {
     "data": {
      "image/png": "[encoded data removed]",
      "text/plain": [
       "<Figure size 640x480 with 1 Axes>"
      ]
     },
     "metadata": {},
     "output_type": "display_data"
    }
   ],
   "source": [
    "import matplotlib.pyplot as plt\n",
    "\n",
    "df['Average'].plot(kind='bar', color=['skyblue', 'lightgreen', 'red'])\n",
    "plt.title('Average Score per Subject')\n",
    "plt.xlabel('Subject')\n",
    "plt.ylabel('Average Score')\n",
    "\n",
    "plt.show()\n",
    "\n"
   ]
  },
  {
   "cell_type": "markdown",
   "metadata": {
    "id": "yFxPFagsE9mS"
   },
   "source": [
    "## Section 5: Mini-Project Challenge"
   ]
  },
  {
   "cell_type": "markdown",
   "metadata": {
    "id": "IZwIOzHXFD1a"
   },
   "source": [
    "### **Task 7**: Build a Mini Calculator with Exception Handling\n",
    "\n",
    "*Instruction*: Write a function that takes two numbers and an operator as input (+, -, *, /). Return the result, and handle divide-by-zero and invalid operator cases with appropriate error messages."
   ]
  },
  {
   "cell_type": "code",
   "execution_count": 30,
   "metadata": {
    "id": "VpUFTR1JFDWk"
   },
   "outputs": [
    {
     "name": "stdout",
     "output_type": "stream",
     "text": [
      "Error: Cannot divide by zero.\n",
      "15\n",
      "Error: Invalid operator. Use '+', '-', '*', or '/'.\n"
     ]
    }
   ],
   "source": [
    "def calculator(a, b, operator):\n",
    "    if operator == '+':\n",
    "        return a + b\n",
    "\n",
    "    elif operator == '-':\n",
    "        return a - b\n",
    " \n",
    "    elif operator == '*':\n",
    "        return a * b\n",
    "\n",
    "    elif operator == '/':\n",
    "        if b == 0:\n",
    "            return \"Error: Cannot divide by zero.\"\n",
    "        else:\n",
    "            return a / b\n",
    "    \n",
    "    else:\n",
    "        return \"Error: Invalid operator. Use '+', '-', '*', or '/'.\"\n",
    "\n",
    "# Example usage:\n",
    "print(calculator(10, 0, '/'))\n",
    "print(calculator(10, 5, '+'))  \n",
    "print(calculator(10, 5, '%'))  \n",
    "\n"
   ]
  },
  {
   "cell_type": "code",
   "execution_count": null,
   "metadata": {},
   "outputs": [],
   "source": []
  }
 ],
 "metadata": {
  "colab": {
   "authorship_tag": "ABX9TyNlalQQp7si6Pug09Z1m2k6",
   "provenance": []
  },
  "kernelspec": {
   "display_name": "Python 3 (ipykernel)",
   "language": "python",
   "name": "python3"
  },
  "language_info": {
   "codemirror_mode": {
    "name": "ipython",
    "version": 3
   },
   "file_extension": ".py",
   "mimetype": "text/x-python",
   "name": "python",
   "nbconvert_exporter": "python",
   "pygments_lexer": "ipython3",
   "version": "3.13.2"
  }
 },
 "nbformat": 4,
 "nbformat_minor": 4
}
